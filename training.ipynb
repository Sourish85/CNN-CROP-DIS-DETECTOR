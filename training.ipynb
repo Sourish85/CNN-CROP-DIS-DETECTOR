{
  "cells": [
    {
      "cell_type": "code",
      "execution_count": null,
      "metadata": {
        "id": "qcyGFywzrEFw"
      },
      "outputs": [],
      "source": [
        "import numpy as np\n",
        "import pandas as pd\n",
        "import matplotlib.pyplot as plt #used for visualization purpose\n",
        "import seaborn as sb     #used for visualization purpose\n",
        "import tensorflow as tf # framework\n",
        "import PIL\n",
        "from tensorflow import keras # keras was also a framework not one anymore, it is under tensorflow\n",
        "from tensorflow.keras import layers\n",
        "from tensorflow.keras.models import Sequential\n"
      ]
    },
    {
      "cell_type": "code",
      "execution_count": null,
      "metadata": {
        "colab": {
          "base_uri": "https://localhost:8080/"
        },
        "id": "ebugWAf8sq6h",
        "outputId": "9fb042a9-687d-48b0-cf85-76f757870789"
      },
      "outputs": [
        {
          "output_type": "stream",
          "name": "stdout",
          "text": [
            "Mounted at /content/gdrive\n"
          ]
        }
      ],
      "source": [
        "from google.colab import drive #adding the file from Google Drive\n",
        "drive.mount(\"/content/gdrive\")\n",
        "\n"
      ]
    },
    {
      "cell_type": "code",
      "execution_count": null,
      "metadata": {
        "id": "PGX9opujtMrP"
      },
      "outputs": [],
      "source": [
        "import os\n",
        "import pathlib"
      ]
    },
    {
      "cell_type": "code",
      "execution_count": null,
      "metadata": {
        "id": "XECnJSpHubGM"
      },
      "outputs": [],
      "source": [
        "data_dir=os.path.join(\"/content/gdrive/MyDrive/Project_Dataset\")\n",
        "data_dir=pathlib.Path(data_dir).with_suffix(\"\")"
      ]
    },
    {
      "cell_type": "code",
      "execution_count": null,
      "metadata": {
        "id": "hgz2t5gGDUvl"
      },
      "outputs": [],
      "source": [
        "#a= os.scandir(data_dir)\n",
        "#for i in a:\n",
        " # print(i.name)"
      ]
    },
    {
      "cell_type": "markdown",
      "metadata": {
        "id": "ohCKSfjLyW-A"
      },
      "source": [
        "# Pre-Processing"
      ]
    },
    {
      "cell_type": "code",
      "execution_count": null,
      "metadata": {
        "id": "0IbHJ0GHydLf"
      },
      "outputs": [],
      "source": [
        "batch_size=16\n",
        "img_height=200\n",
        "img_width=200"
      ]
    },
    {
      "cell_type": "code",
      "execution_count": null,
      "metadata": {
        "colab": {
          "base_uri": "https://localhost:8080/"
        },
        "id": "oktlezPEG6SW",
        "outputId": "1ca74a0c-2d58-4979-ae25-ba700171071c"
      },
      "outputs": [
        {
          "output_type": "stream",
          "name": "stdout",
          "text": [
            "Found 5619 files belonging to 8 classes.\n",
            "Using 4496 files for training.\n"
          ]
        }
      ],
      "source": [
        "train_ds=tf.keras.utils.image_dataset_from_directory(data_dir,validation_split=0.2,subset=\"training\",seed=123,image_size=(img_height,img_width),batch_size=batch_size)"
      ]
    },
    {
      "cell_type": "code",
      "execution_count": null,
      "metadata": {
        "colab": {
          "base_uri": "https://localhost:8080/"
        },
        "id": "LXbKtreNH_Y_",
        "outputId": "62d6783d-2be0-4b21-cb82-eaa33d3b386e"
      },
      "outputs": [
        {
          "output_type": "stream",
          "name": "stdout",
          "text": [
            "Found 5619 files belonging to 8 classes.\n",
            "Using 1123 files for validation.\n"
          ]
        }
      ],
      "source": [
        "validation_ds=tf.keras.utils.image_dataset_from_directory(data_dir,validation_split=0.2,subset=\"validation\",seed=123,image_size=(img_height,img_width),batch_size=batch_size)"
      ]
    },
    {
      "cell_type": "code",
      "execution_count": null,
      "metadata": {
        "colab": {
          "base_uri": "https://localhost:8080/"
        },
        "id": "f3MZdr-IHalB",
        "outputId": "dd807ae0-b58a-40c6-ff8b-2960a775ebac"
      },
      "outputs": [
        {
          "output_type": "stream",
          "name": "stdout",
          "text": [
            "['CORN-GREY LEAF SPOT', 'POTATO-EARLY BLIGHT', 'POTATO-LATE BLIGHT', 'RICE-BACTERIAL BLIGHT', 'RICE-BROWN SPOT', 'TOMATO-EARLY BLIGHT', 'WHEAT-BROWN RUST', 'WHEAT-YELLOW RUST']\n"
          ]
        }
      ],
      "source": [
        "class_names=train_ds.class_names\n",
        "print(class_names)"
      ]
    },
    {
      "cell_type": "markdown",
      "metadata": {
        "id": "LVVLlOl-IO2w"
      },
      "source": [
        "# Pre-processing for all images\n"
      ]
    },
    {
      "cell_type": "code",
      "execution_count": null,
      "metadata": {
        "id": "BbjcBRihIeQ_"
      },
      "outputs": [],
      "source": [
        "normalization_layer= layers.Rescaling(1./255)"
      ]
    },
    {
      "cell_type": "code",
      "execution_count": null,
      "metadata": {
        "colab": {
          "base_uri": "https://localhost:8080/"
        },
        "id": "ItxihLlkJkDX",
        "outputId": "a57eb820-46fd-47cd-d1af-65f4b094a4dd"
      },
      "outputs": [
        {
          "output_type": "stream",
          "name": "stdout",
          "text": [
            "0.0 0.89784545\n"
          ]
        }
      ],
      "source": [
        "normalized_ds=train_ds.map(lambda x,y:(normalization_layer(x),y))\n",
        "image_batch, labels_batch=next(iter(normalized_ds))\n",
        "first_image=image_batch[0]\n",
        "print(np.min(first_image),np.max(first_image))"
      ]
    },
    {
      "cell_type": "markdown",
      "metadata": {
        "id": "u_Ci1WGhMx5k"
      },
      "source": [
        "# CNN Model Structure\n"
      ]
    },
    {
      "cell_type": "code",
      "execution_count": null,
      "metadata": {
        "id": "QP4MEn1B3R39"
      },
      "outputs": [],
      "source": [
        "from tensorflow import keras\n",
        "from tensorflow.keras.layers import Conv2D"
      ]
    },
    {
      "cell_type": "code",
      "execution_count": null,
      "metadata": {
        "colab": {
          "base_uri": "https://localhost:8080/"
        },
        "id": "NcWCRcmnM02I",
        "outputId": "14e19f40-5840-411c-a53d-5102af5f2983"
      },
      "outputs": [
        {
          "output_type": "stream",
          "name": "stderr",
          "text": [
            "/usr/local/lib/python3.10/dist-packages/keras/src/layers/preprocessing/tf_data_layer.py:19: UserWarning: Do not pass an `input_shape`/`input_dim` argument to a layer. When using Sequential models, prefer using an `Input(shape)` object as the first layer in the model instead.\n",
            "  super().__init__(**kwargs)\n"
          ]
        }
      ],
      "source": [
        "# CNN Model Design\n",
        "num_classes=len(class_names)\n",
        "model=Sequential([\n",
        "    layers.Rescaling(1./255,input_shape=(img_height,img_width,3)),\n",
        "    layers.Conv2D(16,3,padding=\"same\",activation=\"relu\"),\n",
        "    layers.MaxPooling2D(),\n",
        "    layers.Dropout(0.25),\n",
        "    layers.Conv2D(32,3,padding=\"same\",activation=\"relu\"),\n",
        "    layers.MaxPooling2D(),\n",
        "    layers.Dropout(0.25),\n",
        "    layers.Conv2D(64,3,padding=\"same\",activation=\"relu\"),\n",
        "    layers.MaxPooling2D(),\n",
        "    layers.Dropout(0.25),\n",
        "    layers.Conv2D(128,3,padding=\"same\",activation=\"relu\"),\n",
        "    layers.MaxPooling2D(),\n",
        "    layers.Flatten(),\n",
        "    layers.Dense(128,activation=\"relu\"),\n",
        "    layers.Dense(num_classes)])"
      ]
    },
    {
      "cell_type": "code",
      "execution_count": null,
      "metadata": {
        "id": "mDlMcnD03FCj"
      },
      "outputs": [],
      "source": [
        "model.compile(optimizer=\"adam\",loss=tf.keras.losses.SparseCategoricalCrossentropy(from_logits=True),metrics=[\"accuracy\"])"
      ]
    },
    {
      "cell_type": "code",
      "execution_count": null,
      "metadata": {
        "colab": {
          "base_uri": "https://localhost:8080/",
          "height": 628
        },
        "id": "5fmSFs-404eP",
        "outputId": "a05e322b-afbb-40aa-a0ac-752a9472139d"
      },
      "outputs": [
        {
          "output_type": "display_data",
          "data": {
            "text/plain": [
              "\u001b[1mModel: \"sequential\"\u001b[0m\n"
            ],
            "text/html": [
              "<pre style=\"white-space:pre;overflow-x:auto;line-height:normal;font-family:Menlo,'DejaVu Sans Mono',consolas,'Courier New',monospace\"><span style=\"font-weight: bold\">Model: \"sequential\"</span>\n",
              "</pre>\n"
            ]
          },
          "metadata": {}
        },
        {
          "output_type": "display_data",
          "data": {
            "text/plain": [
              "┏━━━━━━━━━━━━━━━━━━━━━━━━━━━━━━━━━━━━━━┳━━━━━━━━━━━━━━━━━━━━━━━━━━━━━┳━━━━━━━━━━━━━━━━━┓\n",
              "┃\u001b[1m \u001b[0m\u001b[1mLayer (type)                        \u001b[0m\u001b[1m \u001b[0m┃\u001b[1m \u001b[0m\u001b[1mOutput Shape               \u001b[0m\u001b[1m \u001b[0m┃\u001b[1m \u001b[0m\u001b[1m        Param #\u001b[0m\u001b[1m \u001b[0m┃\n",
              "┡━━━━━━━━━━━━━━━━━━━━━━━━━━━━━━━━━━━━━━╇━━━━━━━━━━━━━━━━━━━━━━━━━━━━━╇━━━━━━━━━━━━━━━━━┩\n",
              "│ rescaling_1 (\u001b[38;5;33mRescaling\u001b[0m)              │ (\u001b[38;5;45mNone\u001b[0m, \u001b[38;5;34m200\u001b[0m, \u001b[38;5;34m200\u001b[0m, \u001b[38;5;34m3\u001b[0m)         │               \u001b[38;5;34m0\u001b[0m │\n",
              "├──────────────────────────────────────┼─────────────────────────────┼─────────────────┤\n",
              "│ conv2d (\u001b[38;5;33mConv2D\u001b[0m)                      │ (\u001b[38;5;45mNone\u001b[0m, \u001b[38;5;34m200\u001b[0m, \u001b[38;5;34m200\u001b[0m, \u001b[38;5;34m16\u001b[0m)        │             \u001b[38;5;34m448\u001b[0m │\n",
              "├──────────────────────────────────────┼─────────────────────────────┼─────────────────┤\n",
              "│ max_pooling2d (\u001b[38;5;33mMaxPooling2D\u001b[0m)         │ (\u001b[38;5;45mNone\u001b[0m, \u001b[38;5;34m100\u001b[0m, \u001b[38;5;34m100\u001b[0m, \u001b[38;5;34m16\u001b[0m)        │               \u001b[38;5;34m0\u001b[0m │\n",
              "├──────────────────────────────────────┼─────────────────────────────┼─────────────────┤\n",
              "│ dropout (\u001b[38;5;33mDropout\u001b[0m)                    │ (\u001b[38;5;45mNone\u001b[0m, \u001b[38;5;34m100\u001b[0m, \u001b[38;5;34m100\u001b[0m, \u001b[38;5;34m16\u001b[0m)        │               \u001b[38;5;34m0\u001b[0m │\n",
              "├──────────────────────────────────────┼─────────────────────────────┼─────────────────┤\n",
              "│ conv2d_1 (\u001b[38;5;33mConv2D\u001b[0m)                    │ (\u001b[38;5;45mNone\u001b[0m, \u001b[38;5;34m100\u001b[0m, \u001b[38;5;34m100\u001b[0m, \u001b[38;5;34m32\u001b[0m)        │           \u001b[38;5;34m4,640\u001b[0m │\n",
              "├──────────────────────────────────────┼─────────────────────────────┼─────────────────┤\n",
              "│ max_pooling2d_1 (\u001b[38;5;33mMaxPooling2D\u001b[0m)       │ (\u001b[38;5;45mNone\u001b[0m, \u001b[38;5;34m50\u001b[0m, \u001b[38;5;34m50\u001b[0m, \u001b[38;5;34m32\u001b[0m)          │               \u001b[38;5;34m0\u001b[0m │\n",
              "├──────────────────────────────────────┼─────────────────────────────┼─────────────────┤\n",
              "│ dropout_1 (\u001b[38;5;33mDropout\u001b[0m)                  │ (\u001b[38;5;45mNone\u001b[0m, \u001b[38;5;34m50\u001b[0m, \u001b[38;5;34m50\u001b[0m, \u001b[38;5;34m32\u001b[0m)          │               \u001b[38;5;34m0\u001b[0m │\n",
              "├──────────────────────────────────────┼─────────────────────────────┼─────────────────┤\n",
              "│ conv2d_2 (\u001b[38;5;33mConv2D\u001b[0m)                    │ (\u001b[38;5;45mNone\u001b[0m, \u001b[38;5;34m50\u001b[0m, \u001b[38;5;34m50\u001b[0m, \u001b[38;5;34m64\u001b[0m)          │          \u001b[38;5;34m18,496\u001b[0m │\n",
              "├──────────────────────────────────────┼─────────────────────────────┼─────────────────┤\n",
              "│ max_pooling2d_2 (\u001b[38;5;33mMaxPooling2D\u001b[0m)       │ (\u001b[38;5;45mNone\u001b[0m, \u001b[38;5;34m25\u001b[0m, \u001b[38;5;34m25\u001b[0m, \u001b[38;5;34m64\u001b[0m)          │               \u001b[38;5;34m0\u001b[0m │\n",
              "├──────────────────────────────────────┼─────────────────────────────┼─────────────────┤\n",
              "│ dropout_2 (\u001b[38;5;33mDropout\u001b[0m)                  │ (\u001b[38;5;45mNone\u001b[0m, \u001b[38;5;34m25\u001b[0m, \u001b[38;5;34m25\u001b[0m, \u001b[38;5;34m64\u001b[0m)          │               \u001b[38;5;34m0\u001b[0m │\n",
              "├──────────────────────────────────────┼─────────────────────────────┼─────────────────┤\n",
              "│ conv2d_3 (\u001b[38;5;33mConv2D\u001b[0m)                    │ (\u001b[38;5;45mNone\u001b[0m, \u001b[38;5;34m25\u001b[0m, \u001b[38;5;34m25\u001b[0m, \u001b[38;5;34m128\u001b[0m)         │          \u001b[38;5;34m73,856\u001b[0m │\n",
              "├──────────────────────────────────────┼─────────────────────────────┼─────────────────┤\n",
              "│ max_pooling2d_3 (\u001b[38;5;33mMaxPooling2D\u001b[0m)       │ (\u001b[38;5;45mNone\u001b[0m, \u001b[38;5;34m12\u001b[0m, \u001b[38;5;34m12\u001b[0m, \u001b[38;5;34m128\u001b[0m)         │               \u001b[38;5;34m0\u001b[0m │\n",
              "├──────────────────────────────────────┼─────────────────────────────┼─────────────────┤\n",
              "│ flatten (\u001b[38;5;33mFlatten\u001b[0m)                    │ (\u001b[38;5;45mNone\u001b[0m, \u001b[38;5;34m18432\u001b[0m)               │               \u001b[38;5;34m0\u001b[0m │\n",
              "├──────────────────────────────────────┼─────────────────────────────┼─────────────────┤\n",
              "│ dense (\u001b[38;5;33mDense\u001b[0m)                        │ (\u001b[38;5;45mNone\u001b[0m, \u001b[38;5;34m128\u001b[0m)                 │       \u001b[38;5;34m2,359,424\u001b[0m │\n",
              "├──────────────────────────────────────┼─────────────────────────────┼─────────────────┤\n",
              "│ dense_1 (\u001b[38;5;33mDense\u001b[0m)                      │ (\u001b[38;5;45mNone\u001b[0m, \u001b[38;5;34m8\u001b[0m)                   │           \u001b[38;5;34m1,032\u001b[0m │\n",
              "└──────────────────────────────────────┴─────────────────────────────┴─────────────────┘\n"
            ],
            "text/html": [
              "<pre style=\"white-space:pre;overflow-x:auto;line-height:normal;font-family:Menlo,'DejaVu Sans Mono',consolas,'Courier New',monospace\">┏━━━━━━━━━━━━━━━━━━━━━━━━━━━━━━━━━━━━━━┳━━━━━━━━━━━━━━━━━━━━━━━━━━━━━┳━━━━━━━━━━━━━━━━━┓\n",
              "┃<span style=\"font-weight: bold\"> Layer (type)                         </span>┃<span style=\"font-weight: bold\"> Output Shape                </span>┃<span style=\"font-weight: bold\">         Param # </span>┃\n",
              "┡━━━━━━━━━━━━━━━━━━━━━━━━━━━━━━━━━━━━━━╇━━━━━━━━━━━━━━━━━━━━━━━━━━━━━╇━━━━━━━━━━━━━━━━━┩\n",
              "│ rescaling_1 (<span style=\"color: #0087ff; text-decoration-color: #0087ff\">Rescaling</span>)              │ (<span style=\"color: #00d7ff; text-decoration-color: #00d7ff\">None</span>, <span style=\"color: #00af00; text-decoration-color: #00af00\">200</span>, <span style=\"color: #00af00; text-decoration-color: #00af00\">200</span>, <span style=\"color: #00af00; text-decoration-color: #00af00\">3</span>)         │               <span style=\"color: #00af00; text-decoration-color: #00af00\">0</span> │\n",
              "├──────────────────────────────────────┼─────────────────────────────┼─────────────────┤\n",
              "│ conv2d (<span style=\"color: #0087ff; text-decoration-color: #0087ff\">Conv2D</span>)                      │ (<span style=\"color: #00d7ff; text-decoration-color: #00d7ff\">None</span>, <span style=\"color: #00af00; text-decoration-color: #00af00\">200</span>, <span style=\"color: #00af00; text-decoration-color: #00af00\">200</span>, <span style=\"color: #00af00; text-decoration-color: #00af00\">16</span>)        │             <span style=\"color: #00af00; text-decoration-color: #00af00\">448</span> │\n",
              "├──────────────────────────────────────┼─────────────────────────────┼─────────────────┤\n",
              "│ max_pooling2d (<span style=\"color: #0087ff; text-decoration-color: #0087ff\">MaxPooling2D</span>)         │ (<span style=\"color: #00d7ff; text-decoration-color: #00d7ff\">None</span>, <span style=\"color: #00af00; text-decoration-color: #00af00\">100</span>, <span style=\"color: #00af00; text-decoration-color: #00af00\">100</span>, <span style=\"color: #00af00; text-decoration-color: #00af00\">16</span>)        │               <span style=\"color: #00af00; text-decoration-color: #00af00\">0</span> │\n",
              "├──────────────────────────────────────┼─────────────────────────────┼─────────────────┤\n",
              "│ dropout (<span style=\"color: #0087ff; text-decoration-color: #0087ff\">Dropout</span>)                    │ (<span style=\"color: #00d7ff; text-decoration-color: #00d7ff\">None</span>, <span style=\"color: #00af00; text-decoration-color: #00af00\">100</span>, <span style=\"color: #00af00; text-decoration-color: #00af00\">100</span>, <span style=\"color: #00af00; text-decoration-color: #00af00\">16</span>)        │               <span style=\"color: #00af00; text-decoration-color: #00af00\">0</span> │\n",
              "├──────────────────────────────────────┼─────────────────────────────┼─────────────────┤\n",
              "│ conv2d_1 (<span style=\"color: #0087ff; text-decoration-color: #0087ff\">Conv2D</span>)                    │ (<span style=\"color: #00d7ff; text-decoration-color: #00d7ff\">None</span>, <span style=\"color: #00af00; text-decoration-color: #00af00\">100</span>, <span style=\"color: #00af00; text-decoration-color: #00af00\">100</span>, <span style=\"color: #00af00; text-decoration-color: #00af00\">32</span>)        │           <span style=\"color: #00af00; text-decoration-color: #00af00\">4,640</span> │\n",
              "├──────────────────────────────────────┼─────────────────────────────┼─────────────────┤\n",
              "│ max_pooling2d_1 (<span style=\"color: #0087ff; text-decoration-color: #0087ff\">MaxPooling2D</span>)       │ (<span style=\"color: #00d7ff; text-decoration-color: #00d7ff\">None</span>, <span style=\"color: #00af00; text-decoration-color: #00af00\">50</span>, <span style=\"color: #00af00; text-decoration-color: #00af00\">50</span>, <span style=\"color: #00af00; text-decoration-color: #00af00\">32</span>)          │               <span style=\"color: #00af00; text-decoration-color: #00af00\">0</span> │\n",
              "├──────────────────────────────────────┼─────────────────────────────┼─────────────────┤\n",
              "│ dropout_1 (<span style=\"color: #0087ff; text-decoration-color: #0087ff\">Dropout</span>)                  │ (<span style=\"color: #00d7ff; text-decoration-color: #00d7ff\">None</span>, <span style=\"color: #00af00; text-decoration-color: #00af00\">50</span>, <span style=\"color: #00af00; text-decoration-color: #00af00\">50</span>, <span style=\"color: #00af00; text-decoration-color: #00af00\">32</span>)          │               <span style=\"color: #00af00; text-decoration-color: #00af00\">0</span> │\n",
              "├──────────────────────────────────────┼─────────────────────────────┼─────────────────┤\n",
              "│ conv2d_2 (<span style=\"color: #0087ff; text-decoration-color: #0087ff\">Conv2D</span>)                    │ (<span style=\"color: #00d7ff; text-decoration-color: #00d7ff\">None</span>, <span style=\"color: #00af00; text-decoration-color: #00af00\">50</span>, <span style=\"color: #00af00; text-decoration-color: #00af00\">50</span>, <span style=\"color: #00af00; text-decoration-color: #00af00\">64</span>)          │          <span style=\"color: #00af00; text-decoration-color: #00af00\">18,496</span> │\n",
              "├──────────────────────────────────────┼─────────────────────────────┼─────────────────┤\n",
              "│ max_pooling2d_2 (<span style=\"color: #0087ff; text-decoration-color: #0087ff\">MaxPooling2D</span>)       │ (<span style=\"color: #00d7ff; text-decoration-color: #00d7ff\">None</span>, <span style=\"color: #00af00; text-decoration-color: #00af00\">25</span>, <span style=\"color: #00af00; text-decoration-color: #00af00\">25</span>, <span style=\"color: #00af00; text-decoration-color: #00af00\">64</span>)          │               <span style=\"color: #00af00; text-decoration-color: #00af00\">0</span> │\n",
              "├──────────────────────────────────────┼─────────────────────────────┼─────────────────┤\n",
              "│ dropout_2 (<span style=\"color: #0087ff; text-decoration-color: #0087ff\">Dropout</span>)                  │ (<span style=\"color: #00d7ff; text-decoration-color: #00d7ff\">None</span>, <span style=\"color: #00af00; text-decoration-color: #00af00\">25</span>, <span style=\"color: #00af00; text-decoration-color: #00af00\">25</span>, <span style=\"color: #00af00; text-decoration-color: #00af00\">64</span>)          │               <span style=\"color: #00af00; text-decoration-color: #00af00\">0</span> │\n",
              "├──────────────────────────────────────┼─────────────────────────────┼─────────────────┤\n",
              "│ conv2d_3 (<span style=\"color: #0087ff; text-decoration-color: #0087ff\">Conv2D</span>)                    │ (<span style=\"color: #00d7ff; text-decoration-color: #00d7ff\">None</span>, <span style=\"color: #00af00; text-decoration-color: #00af00\">25</span>, <span style=\"color: #00af00; text-decoration-color: #00af00\">25</span>, <span style=\"color: #00af00; text-decoration-color: #00af00\">128</span>)         │          <span style=\"color: #00af00; text-decoration-color: #00af00\">73,856</span> │\n",
              "├──────────────────────────────────────┼─────────────────────────────┼─────────────────┤\n",
              "│ max_pooling2d_3 (<span style=\"color: #0087ff; text-decoration-color: #0087ff\">MaxPooling2D</span>)       │ (<span style=\"color: #00d7ff; text-decoration-color: #00d7ff\">None</span>, <span style=\"color: #00af00; text-decoration-color: #00af00\">12</span>, <span style=\"color: #00af00; text-decoration-color: #00af00\">12</span>, <span style=\"color: #00af00; text-decoration-color: #00af00\">128</span>)         │               <span style=\"color: #00af00; text-decoration-color: #00af00\">0</span> │\n",
              "├──────────────────────────────────────┼─────────────────────────────┼─────────────────┤\n",
              "│ flatten (<span style=\"color: #0087ff; text-decoration-color: #0087ff\">Flatten</span>)                    │ (<span style=\"color: #00d7ff; text-decoration-color: #00d7ff\">None</span>, <span style=\"color: #00af00; text-decoration-color: #00af00\">18432</span>)               │               <span style=\"color: #00af00; text-decoration-color: #00af00\">0</span> │\n",
              "├──────────────────────────────────────┼─────────────────────────────┼─────────────────┤\n",
              "│ dense (<span style=\"color: #0087ff; text-decoration-color: #0087ff\">Dense</span>)                        │ (<span style=\"color: #00d7ff; text-decoration-color: #00d7ff\">None</span>, <span style=\"color: #00af00; text-decoration-color: #00af00\">128</span>)                 │       <span style=\"color: #00af00; text-decoration-color: #00af00\">2,359,424</span> │\n",
              "├──────────────────────────────────────┼─────────────────────────────┼─────────────────┤\n",
              "│ dense_1 (<span style=\"color: #0087ff; text-decoration-color: #0087ff\">Dense</span>)                      │ (<span style=\"color: #00d7ff; text-decoration-color: #00d7ff\">None</span>, <span style=\"color: #00af00; text-decoration-color: #00af00\">8</span>)                   │           <span style=\"color: #00af00; text-decoration-color: #00af00\">1,032</span> │\n",
              "└──────────────────────────────────────┴─────────────────────────────┴─────────────────┘\n",
              "</pre>\n"
            ]
          },
          "metadata": {}
        },
        {
          "output_type": "display_data",
          "data": {
            "text/plain": [
              "\u001b[1m Total params: \u001b[0m\u001b[38;5;34m2,457,896\u001b[0m (9.38 MB)\n"
            ],
            "text/html": [
              "<pre style=\"white-space:pre;overflow-x:auto;line-height:normal;font-family:Menlo,'DejaVu Sans Mono',consolas,'Courier New',monospace\"><span style=\"font-weight: bold\"> Total params: </span><span style=\"color: #00af00; text-decoration-color: #00af00\">2,457,896</span> (9.38 MB)\n",
              "</pre>\n"
            ]
          },
          "metadata": {}
        },
        {
          "output_type": "display_data",
          "data": {
            "text/plain": [
              "\u001b[1m Trainable params: \u001b[0m\u001b[38;5;34m2,457,896\u001b[0m (9.38 MB)\n"
            ],
            "text/html": [
              "<pre style=\"white-space:pre;overflow-x:auto;line-height:normal;font-family:Menlo,'DejaVu Sans Mono',consolas,'Courier New',monospace\"><span style=\"font-weight: bold\"> Trainable params: </span><span style=\"color: #00af00; text-decoration-color: #00af00\">2,457,896</span> (9.38 MB)\n",
              "</pre>\n"
            ]
          },
          "metadata": {}
        },
        {
          "output_type": "display_data",
          "data": {
            "text/plain": [
              "\u001b[1m Non-trainable params: \u001b[0m\u001b[38;5;34m0\u001b[0m (0.00 B)\n"
            ],
            "text/html": [
              "<pre style=\"white-space:pre;overflow-x:auto;line-height:normal;font-family:Menlo,'DejaVu Sans Mono',consolas,'Courier New',monospace\"><span style=\"font-weight: bold\"> Non-trainable params: </span><span style=\"color: #00af00; text-decoration-color: #00af00\">0</span> (0.00 B)\n",
              "</pre>\n"
            ]
          },
          "metadata": {}
        }
      ],
      "source": [
        "model.summary()\n"
      ]
    },
    {
      "cell_type": "code",
      "execution_count": null,
      "metadata": {
        "colab": {
          "base_uri": "https://localhost:8080/"
        },
        "id": "oOeRvU69juyh",
        "outputId": "16e64022-635a-4ef3-b539-3db95616c913"
      },
      "outputs": [
        {
          "output_type": "stream",
          "name": "stdout",
          "text": [
            "Epoch 1/100\n",
            "\u001b[1m281/281\u001b[0m \u001b[32m━━━━━━━━━━━━━━━━━━━━\u001b[0m\u001b[37m\u001b[0m \u001b[1m1835s\u001b[0m 7s/step - accuracy: 0.3967 - loss: 1.5633 - val_accuracy: 0.7925 - val_loss: 0.6611\n",
            "Epoch 2/100\n",
            "\u001b[1m281/281\u001b[0m \u001b[32m━━━━━━━━━━━━━━━━━━━━\u001b[0m\u001b[37m\u001b[0m \u001b[1m25s\u001b[0m 90ms/step - accuracy: 0.8020 - loss: 0.5354 - val_accuracy: 0.8255 - val_loss: 0.5496\n",
            "Epoch 3/100\n",
            "\u001b[1m281/281\u001b[0m \u001b[32m━━━━━━━━━━━━━━━━━━━━\u001b[0m\u001b[37m\u001b[0m \u001b[1m30s\u001b[0m 106ms/step - accuracy: 0.8690 - loss: 0.3669 - val_accuracy: 0.8059 - val_loss: 0.6418\n",
            "Epoch 4/100\n",
            "\u001b[1m281/281\u001b[0m \u001b[32m━━━━━━━━━━━━━━━━━━━━\u001b[0m\u001b[37m\u001b[0m \u001b[1m25s\u001b[0m 87ms/step - accuracy: 0.8948 - loss: 0.2884 - val_accuracy: 0.8798 - val_loss: 0.3323\n",
            "Epoch 5/100\n",
            "\u001b[1m281/281\u001b[0m \u001b[32m━━━━━━━━━━━━━━━━━━━━\u001b[0m\u001b[37m\u001b[0m \u001b[1m41s\u001b[0m 88ms/step - accuracy: 0.9059 - loss: 0.2511 - val_accuracy: 0.9012 - val_loss: 0.3131\n",
            "Epoch 6/100\n",
            "\u001b[1m281/281\u001b[0m \u001b[32m━━━━━━━━━━━━━━━━━━━━\u001b[0m\u001b[37m\u001b[0m \u001b[1m24s\u001b[0m 86ms/step - accuracy: 0.9286 - loss: 0.1949 - val_accuracy: 0.8940 - val_loss: 0.2916\n",
            "Epoch 7/100\n",
            "\u001b[1m281/281\u001b[0m \u001b[32m━━━━━━━━━━━━━━━━━━━━\u001b[0m\u001b[37m\u001b[0m \u001b[1m41s\u001b[0m 86ms/step - accuracy: 0.9387 - loss: 0.1622 - val_accuracy: 0.8958 - val_loss: 0.3026\n",
            "Epoch 8/100\n",
            "\u001b[1m281/281\u001b[0m \u001b[32m━━━━━━━━━━━━━━━━━━━━\u001b[0m\u001b[37m\u001b[0m \u001b[1m24s\u001b[0m 86ms/step - accuracy: 0.9433 - loss: 0.1621 - val_accuracy: 0.9038 - val_loss: 0.2817\n",
            "Epoch 9/100\n",
            "\u001b[1m281/281\u001b[0m \u001b[32m━━━━━━━━━━━━━━━━━━━━\u001b[0m\u001b[37m\u001b[0m \u001b[1m41s\u001b[0m 85ms/step - accuracy: 0.9567 - loss: 0.1174 - val_accuracy: 0.9305 - val_loss: 0.2046\n",
            "Epoch 10/100\n",
            "\u001b[1m281/281\u001b[0m \u001b[32m━━━━━━━━━━━━━━━━━━━━\u001b[0m\u001b[37m\u001b[0m \u001b[1m23s\u001b[0m 83ms/step - accuracy: 0.9576 - loss: 0.1163 - val_accuracy: 0.8833 - val_loss: 0.3478\n",
            "Epoch 11/100\n",
            "\u001b[1m281/281\u001b[0m \u001b[32m━━━━━━━━━━━━━━━━━━━━\u001b[0m\u001b[37m\u001b[0m \u001b[1m25s\u001b[0m 90ms/step - accuracy: 0.9656 - loss: 0.1044 - val_accuracy: 0.8103 - val_loss: 0.4722\n",
            "Epoch 12/100\n",
            "\u001b[1m281/281\u001b[0m \u001b[32m━━━━━━━━━━━━━━━━━━━━\u001b[0m\u001b[37m\u001b[0m \u001b[1m29s\u001b[0m 104ms/step - accuracy: 0.9472 - loss: 0.1428 - val_accuracy: 0.8566 - val_loss: 0.5087\n",
            "Epoch 13/100\n",
            "\u001b[1m281/281\u001b[0m \u001b[32m━━━━━━━━━━━━━━━━━━━━\u001b[0m\u001b[37m\u001b[0m \u001b[1m35s\u001b[0m 83ms/step - accuracy: 0.9861 - loss: 0.0391 - val_accuracy: 0.9484 - val_loss: 0.1840\n",
            "Epoch 14/100\n",
            "\u001b[1m281/281\u001b[0m \u001b[32m━━━━━━━━━━━━━━━━━━━━\u001b[0m\u001b[37m\u001b[0m \u001b[1m46s\u001b[0m 102ms/step - accuracy: 0.9748 - loss: 0.0753 - val_accuracy: 0.9305 - val_loss: 0.2415\n",
            "Epoch 15/100\n",
            "\u001b[1m281/281\u001b[0m \u001b[32m━━━━━━━━━━━━━━━━━━━━\u001b[0m\u001b[37m\u001b[0m \u001b[1m41s\u001b[0m 101ms/step - accuracy: 0.9739 - loss: 0.0746 - val_accuracy: 0.9314 - val_loss: 0.2348\n",
            "Epoch 16/100\n",
            "\u001b[1m281/281\u001b[0m \u001b[32m━━━━━━━━━━━━━━━━━━━━\u001b[0m\u001b[37m\u001b[0m \u001b[1m24s\u001b[0m 85ms/step - accuracy: 0.9790 - loss: 0.0533 - val_accuracy: 0.8727 - val_loss: 0.3838\n",
            "Epoch 17/100\n",
            "\u001b[1m281/281\u001b[0m \u001b[32m━━━━━━━━━━━━━━━━━━━━\u001b[0m\u001b[37m\u001b[0m \u001b[1m41s\u001b[0m 85ms/step - accuracy: 0.9758 - loss: 0.0695 - val_accuracy: 0.9421 - val_loss: 0.1950\n",
            "Epoch 18/100\n",
            "\u001b[1m281/281\u001b[0m \u001b[32m━━━━━━━━━━━━━━━━━━━━\u001b[0m\u001b[37m\u001b[0m \u001b[1m41s\u001b[0m 84ms/step - accuracy: 0.9861 - loss: 0.0349 - val_accuracy: 0.8451 - val_loss: 0.5085\n",
            "Epoch 19/100\n",
            "\u001b[1m281/281\u001b[0m \u001b[32m━━━━━━━━━━━━━━━━━━━━\u001b[0m\u001b[37m\u001b[0m \u001b[1m41s\u001b[0m 84ms/step - accuracy: 0.9710 - loss: 0.0838 - val_accuracy: 0.9270 - val_loss: 0.2833\n",
            "Epoch 20/100\n",
            "\u001b[1m281/281\u001b[0m \u001b[32m━━━━━━━━━━━━━━━━━━━━\u001b[0m\u001b[37m\u001b[0m \u001b[1m24s\u001b[0m 84ms/step - accuracy: 0.9868 - loss: 0.0426 - val_accuracy: 0.8370 - val_loss: 0.5642\n",
            "Epoch 21/100\n",
            "\u001b[1m281/281\u001b[0m \u001b[32m━━━━━━━━━━━━━━━━━━━━\u001b[0m\u001b[37m\u001b[0m \u001b[1m41s\u001b[0m 83ms/step - accuracy: 0.9911 - loss: 0.0307 - val_accuracy: 0.9136 - val_loss: 0.3308\n",
            "Epoch 22/100\n",
            "\u001b[1m281/281\u001b[0m \u001b[32m━━━━━━━━━━━━━━━━━━━━\u001b[0m\u001b[37m\u001b[0m \u001b[1m24s\u001b[0m 84ms/step - accuracy: 0.9787 - loss: 0.0701 - val_accuracy: 0.9154 - val_loss: 0.3959\n",
            "Epoch 23/100\n",
            "\u001b[1m281/281\u001b[0m \u001b[32m━━━━━━━━━━━━━━━━━━━━\u001b[0m\u001b[37m\u001b[0m \u001b[1m41s\u001b[0m 84ms/step - accuracy: 0.9666 - loss: 0.1171 - val_accuracy: 0.9118 - val_loss: 0.2757\n",
            "Epoch 24/100\n",
            "\u001b[1m281/281\u001b[0m \u001b[32m━━━━━━━━━━━━━━━━━━━━\u001b[0m\u001b[37m\u001b[0m \u001b[1m42s\u001b[0m 90ms/step - accuracy: 0.9913 - loss: 0.0283 - val_accuracy: 0.9074 - val_loss: 0.2966\n",
            "Epoch 25/100\n",
            "\u001b[1m281/281\u001b[0m \u001b[32m━━━━━━━━━━━━━━━━━━━━\u001b[0m\u001b[37m\u001b[0m \u001b[1m40s\u001b[0m 85ms/step - accuracy: 0.9821 - loss: 0.0647 - val_accuracy: 0.9421 - val_loss: 0.1922\n",
            "Epoch 26/100\n",
            "\u001b[1m281/281\u001b[0m \u001b[32m━━━━━━━━━━━━━━━━━━━━\u001b[0m\u001b[37m\u001b[0m \u001b[1m23s\u001b[0m 82ms/step - accuracy: 0.9907 - loss: 0.0276 - val_accuracy: 0.9341 - val_loss: 0.2301\n",
            "Epoch 27/100\n",
            "\u001b[1m281/281\u001b[0m \u001b[32m━━━━━━━━━━━━━━━━━━━━\u001b[0m\u001b[37m\u001b[0m \u001b[1m26s\u001b[0m 93ms/step - accuracy: 0.9967 - loss: 0.0129 - val_accuracy: 0.9484 - val_loss: 0.1930\n",
            "Epoch 28/100\n",
            "\u001b[1m281/281\u001b[0m \u001b[32m━━━━━━━━━━━━━━━━━━━━\u001b[0m\u001b[37m\u001b[0m \u001b[1m26s\u001b[0m 91ms/step - accuracy: 0.9958 - loss: 0.0135 - val_accuracy: 0.8994 - val_loss: 0.3609\n",
            "Epoch 29/100\n",
            "\u001b[1m281/281\u001b[0m \u001b[32m━━━━━━━━━━━━━━━━━━━━\u001b[0m\u001b[37m\u001b[0m \u001b[1m40s\u001b[0m 87ms/step - accuracy: 0.9889 - loss: 0.0380 - val_accuracy: 0.9101 - val_loss: 0.3218\n",
            "Epoch 30/100\n",
            "\u001b[1m281/281\u001b[0m \u001b[32m━━━━━━━━━━━━━━━━━━━━\u001b[0m\u001b[37m\u001b[0m \u001b[1m41s\u001b[0m 88ms/step - accuracy: 0.9874 - loss: 0.0480 - val_accuracy: 0.9323 - val_loss: 0.2323\n",
            "Epoch 31/100\n",
            "\u001b[1m281/281\u001b[0m \u001b[32m━━━━━━━━━━━━━━━━━━━━\u001b[0m\u001b[37m\u001b[0m \u001b[1m24s\u001b[0m 87ms/step - accuracy: 0.9904 - loss: 0.0246 - val_accuracy: 0.9484 - val_loss: 0.1899\n",
            "Epoch 32/100\n",
            "\u001b[1m281/281\u001b[0m \u001b[32m━━━━━━━━━━━━━━━━━━━━\u001b[0m\u001b[37m\u001b[0m \u001b[1m41s\u001b[0m 85ms/step - accuracy: 0.9990 - loss: 0.0039 - val_accuracy: 0.9528 - val_loss: 0.1925\n",
            "Epoch 33/100\n",
            "\u001b[1m281/281\u001b[0m \u001b[32m━━━━━━━━━━━━━━━━━━━━\u001b[0m\u001b[37m\u001b[0m \u001b[1m46s\u001b[0m 104ms/step - accuracy: 0.9918 - loss: 0.0259 - val_accuracy: 0.8451 - val_loss: 0.5206\n",
            "Epoch 34/100\n",
            "\u001b[1m281/281\u001b[0m \u001b[32m━━━━━━━━━━━━━━━━━━━━\u001b[0m\u001b[37m\u001b[0m \u001b[1m26s\u001b[0m 91ms/step - accuracy: 0.9903 - loss: 0.0325 - val_accuracy: 0.9448 - val_loss: 0.2285\n",
            "Epoch 35/100\n",
            "\u001b[1m281/281\u001b[0m \u001b[32m━━━━━━━━━━━━━━━━━━━━\u001b[0m\u001b[37m\u001b[0m \u001b[1m45s\u001b[0m 104ms/step - accuracy: 0.9922 - loss: 0.0217 - val_accuracy: 0.9492 - val_loss: 0.1988\n",
            "Epoch 36/100\n",
            "\u001b[1m281/281\u001b[0m \u001b[32m━━━━━━━━━━━━━━━━━━━━\u001b[0m\u001b[37m\u001b[0m \u001b[1m36s\u001b[0m 87ms/step - accuracy: 0.9904 - loss: 0.0338 - val_accuracy: 0.9457 - val_loss: 0.2596\n",
            "Epoch 37/100\n",
            "\u001b[1m281/281\u001b[0m \u001b[32m━━━━━━━━━━━━━━━━━━━━\u001b[0m\u001b[37m\u001b[0m \u001b[1m41s\u001b[0m 87ms/step - accuracy: 0.9842 - loss: 0.0521 - val_accuracy: 0.9163 - val_loss: 0.2458\n",
            "Epoch 38/100\n",
            "\u001b[1m281/281\u001b[0m \u001b[32m━━━━━━━━━━━━━━━━━━━━\u001b[0m\u001b[37m\u001b[0m \u001b[1m41s\u001b[0m 87ms/step - accuracy: 0.9904 - loss: 0.0210 - val_accuracy: 0.9270 - val_loss: 0.2605\n",
            "Epoch 39/100\n",
            "\u001b[1m281/281\u001b[0m \u001b[32m━━━━━━━━━━━━━━━━━━━━\u001b[0m\u001b[37m\u001b[0m \u001b[1m40s\u001b[0m 84ms/step - accuracy: 0.9948 - loss: 0.0158 - val_accuracy: 0.9377 - val_loss: 0.2546\n",
            "Epoch 40/100\n",
            "\u001b[1m281/281\u001b[0m \u001b[32m━━━━━━━━━━━━━━━━━━━━\u001b[0m\u001b[37m\u001b[0m \u001b[1m24s\u001b[0m 85ms/step - accuracy: 0.9787 - loss: 0.0642 - val_accuracy: 0.9386 - val_loss: 0.2371\n",
            "Epoch 41/100\n",
            "\u001b[1m281/281\u001b[0m \u001b[32m━━━━━━━━━━━━━━━━━━━━\u001b[0m\u001b[37m\u001b[0m \u001b[1m41s\u001b[0m 87ms/step - accuracy: 0.9991 - loss: 0.0047 - val_accuracy: 0.9412 - val_loss: 0.2150\n",
            "Epoch 42/100\n",
            "\u001b[1m281/281\u001b[0m \u001b[32m━━━━━━━━━━━━━━━━━━━━\u001b[0m\u001b[37m\u001b[0m \u001b[1m25s\u001b[0m 88ms/step - accuracy: 1.0000 - loss: 9.6260e-04 - val_accuracy: 0.9528 - val_loss: 0.1904\n",
            "Epoch 43/100\n",
            "\u001b[1m281/281\u001b[0m \u001b[32m━━━━━━━━━━━━━━━━━━━━\u001b[0m\u001b[37m\u001b[0m \u001b[1m46s\u001b[0m 106ms/step - accuracy: 0.9883 - loss: 0.0399 - val_accuracy: 0.9421 - val_loss: 0.2170\n",
            "Epoch 44/100\n",
            "\u001b[1m281/281\u001b[0m \u001b[32m━━━━━━━━━━━━━━━━━━━━\u001b[0m\u001b[37m\u001b[0m \u001b[1m36s\u001b[0m 87ms/step - accuracy: 0.9897 - loss: 0.0351 - val_accuracy: 0.9038 - val_loss: 0.3699\n",
            "Epoch 45/100\n",
            "\u001b[1m281/281\u001b[0m \u001b[32m━━━━━━━━━━━━━━━━━━━━\u001b[0m\u001b[37m\u001b[0m \u001b[1m24s\u001b[0m 84ms/step - accuracy: 0.9887 - loss: 0.0367 - val_accuracy: 0.9377 - val_loss: 0.2345\n",
            "Epoch 46/100\n",
            "\u001b[1m281/281\u001b[0m \u001b[32m━━━━━━━━━━━━━━━━━━━━\u001b[0m\u001b[37m\u001b[0m \u001b[1m25s\u001b[0m 90ms/step - accuracy: 0.9978 - loss: 0.0087 - val_accuracy: 0.9377 - val_loss: 0.2655\n",
            "Epoch 47/100\n",
            "\u001b[1m281/281\u001b[0m \u001b[32m━━━━━━━━━━━━━━━━━━━━\u001b[0m\u001b[37m\u001b[0m \u001b[1m41s\u001b[0m 90ms/step - accuracy: 0.9867 - loss: 0.0526 - val_accuracy: 0.9350 - val_loss: 0.2921\n",
            "Epoch 48/100\n",
            "\u001b[1m281/281\u001b[0m \u001b[32m━━━━━━━━━━━━━━━━━━━━\u001b[0m\u001b[37m\u001b[0m \u001b[1m41s\u001b[0m 90ms/step - accuracy: 0.9947 - loss: 0.0148 - val_accuracy: 0.9386 - val_loss: 0.2371\n",
            "Epoch 49/100\n",
            "\u001b[1m281/281\u001b[0m \u001b[32m━━━━━━━━━━━━━━━━━━━━\u001b[0m\u001b[37m\u001b[0m \u001b[1m41s\u001b[0m 91ms/step - accuracy: 0.9993 - loss: 0.0038 - val_accuracy: 0.9377 - val_loss: 0.2608\n",
            "Epoch 50/100\n",
            "\u001b[1m281/281\u001b[0m \u001b[32m━━━━━━━━━━━━━━━━━━━━\u001b[0m\u001b[37m\u001b[0m \u001b[1m41s\u001b[0m 92ms/step - accuracy: 1.0000 - loss: 4.8111e-04 - val_accuracy: 0.9448 - val_loss: 0.2312\n",
            "Epoch 51/100\n",
            "\u001b[1m281/281\u001b[0m \u001b[32m━━━━━━━━━━━━━━━━━━━━\u001b[0m\u001b[37m\u001b[0m \u001b[1m39s\u001b[0m 87ms/step - accuracy: 0.9963 - loss: 0.0122 - val_accuracy: 0.9377 - val_loss: 0.2545\n",
            "Epoch 52/100\n",
            "\u001b[1m281/281\u001b[0m \u001b[32m━━━━━━━━━━━━━━━━━━━━\u001b[0m\u001b[37m\u001b[0m \u001b[1m43s\u001b[0m 92ms/step - accuracy: 0.9733 - loss: 0.0878 - val_accuracy: 0.9350 - val_loss: 0.2116\n",
            "Epoch 53/100\n",
            "\u001b[1m281/281\u001b[0m \u001b[32m━━━━━━━━━━━━━━━━━━━━\u001b[0m\u001b[37m\u001b[0m \u001b[1m24s\u001b[0m 87ms/step - accuracy: 0.9964 - loss: 0.0078 - val_accuracy: 0.9484 - val_loss: 0.2118\n",
            "Epoch 54/100\n",
            "\u001b[1m281/281\u001b[0m \u001b[32m━━━━━━━━━━━━━━━━━━━━\u001b[0m\u001b[37m\u001b[0m \u001b[1m24s\u001b[0m 85ms/step - accuracy: 1.0000 - loss: 0.0025 - val_accuracy: 0.9412 - val_loss: 0.2586\n",
            "Epoch 55/100\n",
            "\u001b[1m281/281\u001b[0m \u001b[32m━━━━━━━━━━━━━━━━━━━━\u001b[0m\u001b[37m\u001b[0m \u001b[1m24s\u001b[0m 86ms/step - accuracy: 0.9952 - loss: 0.0145 - val_accuracy: 0.9537 - val_loss: 0.2194\n",
            "Epoch 56/100\n",
            "\u001b[1m281/281\u001b[0m \u001b[32m━━━━━━━━━━━━━━━━━━━━\u001b[0m\u001b[37m\u001b[0m \u001b[1m25s\u001b[0m 88ms/step - accuracy: 0.9956 - loss: 0.0152 - val_accuracy: 0.9368 - val_loss: 0.3603\n",
            "Epoch 57/100\n",
            "\u001b[1m281/281\u001b[0m \u001b[32m━━━━━━━━━━━━━━━━━━━━\u001b[0m\u001b[37m\u001b[0m \u001b[1m24s\u001b[0m 86ms/step - accuracy: 0.9885 - loss: 0.0352 - val_accuracy: 0.9190 - val_loss: 0.4036\n",
            "Epoch 58/100\n",
            "\u001b[1m281/281\u001b[0m \u001b[32m━━━━━━━━━━━━━━━━━━━━\u001b[0m\u001b[37m\u001b[0m \u001b[1m23s\u001b[0m 81ms/step - accuracy: 0.9834 - loss: 0.0571 - val_accuracy: 0.9466 - val_loss: 0.2314\n",
            "Epoch 59/100\n",
            "\u001b[1m281/281\u001b[0m \u001b[32m━━━━━━━━━━━━━━━━━━━━\u001b[0m\u001b[37m\u001b[0m \u001b[1m24s\u001b[0m 85ms/step - accuracy: 0.9996 - loss: 0.0024 - val_accuracy: 0.9573 - val_loss: 0.2115\n",
            "Epoch 60/100\n",
            "\u001b[1m281/281\u001b[0m \u001b[32m━━━━━━━━━━━━━━━━━━━━\u001b[0m\u001b[37m\u001b[0m \u001b[1m24s\u001b[0m 84ms/step - accuracy: 1.0000 - loss: 4.0971e-04 - val_accuracy: 0.9484 - val_loss: 0.2427\n",
            "Epoch 61/100\n",
            "\u001b[1m281/281\u001b[0m \u001b[32m━━━━━━━━━━━━━━━━━━━━\u001b[0m\u001b[37m\u001b[0m \u001b[1m42s\u001b[0m 87ms/step - accuracy: 1.0000 - loss: 9.5239e-04 - val_accuracy: 0.9573 - val_loss: 0.2261\n",
            "Epoch 62/100\n",
            "\u001b[1m281/281\u001b[0m \u001b[32m━━━━━━━━━━━━━━━━━━━━\u001b[0m\u001b[37m\u001b[0m \u001b[1m24s\u001b[0m 86ms/step - accuracy: 1.0000 - loss: 1.0714e-04 - val_accuracy: 0.9599 - val_loss: 0.2154\n",
            "Epoch 63/100\n",
            "\u001b[1m281/281\u001b[0m \u001b[32m━━━━━━━━━━━━━━━━━━━━\u001b[0m\u001b[37m\u001b[0m \u001b[1m41s\u001b[0m 85ms/step - accuracy: 1.0000 - loss: 8.7789e-04 - val_accuracy: 0.9510 - val_loss: 0.2807\n",
            "Epoch 64/100\n",
            "\u001b[1m281/281\u001b[0m \u001b[32m━━━━━━━━━━━━━━━━━━━━\u001b[0m\u001b[37m\u001b[0m \u001b[1m46s\u001b[0m 103ms/step - accuracy: 1.0000 - loss: 2.4505e-04 - val_accuracy: 0.9519 - val_loss: 0.2549\n",
            "Epoch 65/100\n",
            "\u001b[1m281/281\u001b[0m \u001b[32m━━━━━━━━━━━━━━━━━━━━\u001b[0m\u001b[37m\u001b[0m \u001b[1m36s\u001b[0m 85ms/step - accuracy: 1.0000 - loss: 6.1934e-05 - val_accuracy: 0.9564 - val_loss: 0.2491\n",
            "Epoch 66/100\n",
            "\u001b[1m281/281\u001b[0m \u001b[32m━━━━━━━━━━━━━━━━━━━━\u001b[0m\u001b[37m\u001b[0m \u001b[1m24s\u001b[0m 86ms/step - accuracy: 1.0000 - loss: 5.2859e-05 - val_accuracy: 0.9581 - val_loss: 0.2447\n",
            "Epoch 67/100\n",
            "\u001b[1m281/281\u001b[0m \u001b[32m━━━━━━━━━━━━━━━━━━━━\u001b[0m\u001b[37m\u001b[0m \u001b[1m40s\u001b[0m 84ms/step - accuracy: 1.0000 - loss: 1.7140e-05 - val_accuracy: 0.9590 - val_loss: 0.2399\n",
            "Epoch 68/100\n",
            "\u001b[1m281/281\u001b[0m \u001b[32m━━━━━━━━━━━━━━━━━━━━\u001b[0m\u001b[37m\u001b[0m \u001b[1m42s\u001b[0m 86ms/step - accuracy: 0.9991 - loss: 0.0045 - val_accuracy: 0.8148 - val_loss: 1.2004\n",
            "Epoch 69/100\n",
            "\u001b[1m281/281\u001b[0m \u001b[32m━━━━━━━━━━━━━━━━━━━━\u001b[0m\u001b[37m\u001b[0m \u001b[1m46s\u001b[0m 105ms/step - accuracy: 0.9615 - loss: 0.1301 - val_accuracy: 0.9341 - val_loss: 0.2830\n",
            "Epoch 70/100\n",
            "\u001b[1m281/281\u001b[0m \u001b[32m━━━━━━━━━━━━━━━━━━━━\u001b[0m\u001b[37m\u001b[0m \u001b[1m36s\u001b[0m 86ms/step - accuracy: 0.9941 - loss: 0.0202 - val_accuracy: 0.9412 - val_loss: 0.2590\n",
            "Epoch 71/100\n",
            "\u001b[1m281/281\u001b[0m \u001b[32m━━━━━━━━━━━━━━━━━━━━\u001b[0m\u001b[37m\u001b[0m \u001b[1m41s\u001b[0m 87ms/step - accuracy: 0.9952 - loss: 0.0128 - val_accuracy: 0.9492 - val_loss: 0.2143\n",
            "Epoch 72/100\n",
            "\u001b[1m281/281\u001b[0m \u001b[32m━━━━━━━━━━━━━━━━━━━━\u001b[0m\u001b[37m\u001b[0m \u001b[1m41s\u001b[0m 88ms/step - accuracy: 0.9958 - loss: 0.0181 - val_accuracy: 0.9439 - val_loss: 0.3024\n",
            "Epoch 73/100\n",
            "\u001b[1m281/281\u001b[0m \u001b[32m━━━━━━━━━━━━━━━━━━━━\u001b[0m\u001b[37m\u001b[0m \u001b[1m41s\u001b[0m 88ms/step - accuracy: 0.9965 - loss: 0.0112 - val_accuracy: 0.9430 - val_loss: 0.2681\n",
            "Epoch 74/100\n",
            "\u001b[1m281/281\u001b[0m \u001b[32m━━━━━━━━━━━━━━━━━━━━\u001b[0m\u001b[37m\u001b[0m \u001b[1m40s\u001b[0m 85ms/step - accuracy: 0.9951 - loss: 0.0183 - val_accuracy: 0.9492 - val_loss: 0.2736\n",
            "Epoch 75/100\n",
            "\u001b[1m281/281\u001b[0m \u001b[32m━━━━━━━━━━━━━━━━━━━━\u001b[0m\u001b[37m\u001b[0m \u001b[1m41s\u001b[0m 85ms/step - accuracy: 0.9997 - loss: 0.0017 - val_accuracy: 0.9297 - val_loss: 0.4093\n",
            "Epoch 76/100\n",
            "\u001b[1m281/281\u001b[0m \u001b[32m━━━━━━━━━━━━━━━━━━━━\u001b[0m\u001b[37m\u001b[0m \u001b[1m41s\u001b[0m 85ms/step - accuracy: 0.9941 - loss: 0.0196 - val_accuracy: 0.9475 - val_loss: 0.2585\n",
            "Epoch 77/100\n",
            "\u001b[1m281/281\u001b[0m \u001b[32m━━━━━━━━━━━━━━━━━━━━\u001b[0m\u001b[37m\u001b[0m \u001b[1m43s\u001b[0m 93ms/step - accuracy: 0.9861 - loss: 0.0528 - val_accuracy: 0.9492 - val_loss: 0.2184\n",
            "Epoch 78/100\n",
            "\u001b[1m281/281\u001b[0m \u001b[32m━━━━━━━━━━━━━━━━━━━━\u001b[0m\u001b[37m\u001b[0m \u001b[1m25s\u001b[0m 88ms/step - accuracy: 0.9981 - loss: 0.0088 - val_accuracy: 0.9377 - val_loss: 0.3000\n",
            "Epoch 79/100\n",
            "\u001b[1m281/281\u001b[0m \u001b[32m━━━━━━━━━━━━━━━━━━━━\u001b[0m\u001b[37m\u001b[0m \u001b[1m25s\u001b[0m 89ms/step - accuracy: 0.9977 - loss: 0.0076 - val_accuracy: 0.9457 - val_loss: 0.2577\n",
            "Epoch 80/100\n",
            "\u001b[1m281/281\u001b[0m \u001b[32m━━━━━━━━━━━━━━━━━━━━\u001b[0m\u001b[37m\u001b[0m \u001b[1m40s\u001b[0m 86ms/step - accuracy: 0.9976 - loss: 0.0069 - val_accuracy: 0.9279 - val_loss: 0.3382\n",
            "Epoch 81/100\n",
            "\u001b[1m281/281\u001b[0m \u001b[32m━━━━━━━━━━━━━━━━━━━━\u001b[0m\u001b[37m\u001b[0m \u001b[1m42s\u001b[0m 89ms/step - accuracy: 0.9861 - loss: 0.0481 - val_accuracy: 0.9439 - val_loss: 0.2559\n",
            "Epoch 82/100\n",
            "\u001b[1m281/281\u001b[0m \u001b[32m━━━━━━━━━━━━━━━━━━━━\u001b[0m\u001b[37m\u001b[0m \u001b[1m24s\u001b[0m 85ms/step - accuracy: 0.9941 - loss: 0.0150 - val_accuracy: 0.9421 - val_loss: 0.2934\n",
            "Epoch 83/100\n",
            "\u001b[1m281/281\u001b[0m \u001b[32m━━━━━━━━━━━━━━━━━━━━\u001b[0m\u001b[37m\u001b[0m \u001b[1m27s\u001b[0m 95ms/step - accuracy: 1.0000 - loss: 4.6008e-04 - val_accuracy: 0.9510 - val_loss: 0.2388\n",
            "Epoch 84/100\n",
            "\u001b[1m281/281\u001b[0m \u001b[32m━━━━━━━━━━━━━━━━━━━━\u001b[0m\u001b[37m\u001b[0m \u001b[1m25s\u001b[0m 89ms/step - accuracy: 0.9980 - loss: 0.0084 - val_accuracy: 0.9101 - val_loss: 0.4494\n",
            "Epoch 85/100\n",
            "\u001b[1m281/281\u001b[0m \u001b[32m━━━━━━━━━━━━━━━━━━━━\u001b[0m\u001b[37m\u001b[0m \u001b[1m42s\u001b[0m 91ms/step - accuracy: 0.9824 - loss: 0.0524 - val_accuracy: 0.9190 - val_loss: 0.3120\n",
            "Epoch 86/100\n",
            "\u001b[1m281/281\u001b[0m \u001b[32m━━━━━━━━━━━━━━━━━━━━\u001b[0m\u001b[37m\u001b[0m \u001b[1m40s\u001b[0m 87ms/step - accuracy: 0.9954 - loss: 0.0135 - val_accuracy: 0.9501 - val_loss: 0.2512\n",
            "Epoch 87/100\n",
            "\u001b[1m281/281\u001b[0m \u001b[32m━━━━━━━━━━━━━━━━━━━━\u001b[0m\u001b[37m\u001b[0m \u001b[1m40s\u001b[0m 84ms/step - accuracy: 0.9974 - loss: 0.0072 - val_accuracy: 0.9448 - val_loss: 0.2631\n",
            "Epoch 88/100\n",
            "\u001b[1m281/281\u001b[0m \u001b[32m━━━━━━━━━━━━━━━━━━━━\u001b[0m\u001b[37m\u001b[0m \u001b[1m41s\u001b[0m 84ms/step - accuracy: 1.0000 - loss: 2.4602e-04 - val_accuracy: 0.9421 - val_loss: 0.2667\n",
            "Epoch 89/100\n",
            "\u001b[1m281/281\u001b[0m \u001b[32m━━━━━━━━━━━━━━━━━━━━\u001b[0m\u001b[37m\u001b[0m \u001b[1m40s\u001b[0m 81ms/step - accuracy: 1.0000 - loss: 4.2146e-04 - val_accuracy: 0.9394 - val_loss: 0.2986\n",
            "Epoch 90/100\n",
            "\u001b[1m281/281\u001b[0m \u001b[32m━━━━━━━━━━━━━━━━━━━━\u001b[0m\u001b[37m\u001b[0m \u001b[1m40s\u001b[0m 80ms/step - accuracy: 0.9964 - loss: 0.0184 - val_accuracy: 0.9181 - val_loss: 0.3265\n",
            "Epoch 91/100\n",
            "\u001b[1m281/281\u001b[0m \u001b[32m━━━━━━━━━━━━━━━━━━━━\u001b[0m\u001b[37m\u001b[0m \u001b[1m42s\u001b[0m 83ms/step - accuracy: 0.9924 - loss: 0.0352 - val_accuracy: 0.9484 - val_loss: 0.2102\n",
            "Epoch 92/100\n",
            "\u001b[1m281/281\u001b[0m \u001b[32m━━━━━━━━━━━━━━━━━━━━\u001b[0m\u001b[37m\u001b[0m \u001b[1m41s\u001b[0m 84ms/step - accuracy: 0.9987 - loss: 0.0049 - val_accuracy: 0.9083 - val_loss: 0.4585\n",
            "Epoch 93/100\n",
            "\u001b[1m281/281\u001b[0m \u001b[32m━━━━━━━━━━━━━━━━━━━━\u001b[0m\u001b[37m\u001b[0m \u001b[1m42s\u001b[0m 87ms/step - accuracy: 0.9942 - loss: 0.0162 - val_accuracy: 0.9350 - val_loss: 0.3251\n",
            "Epoch 94/100\n",
            "\u001b[1m281/281\u001b[0m \u001b[32m━━━━━━━━━━━━━━━━━━━━\u001b[0m\u001b[37m\u001b[0m \u001b[1m24s\u001b[0m 86ms/step - accuracy: 0.9943 - loss: 0.0276 - val_accuracy: 0.9270 - val_loss: 0.3464\n",
            "Epoch 95/100\n",
            "\u001b[1m281/281\u001b[0m \u001b[32m━━━━━━━━━━━━━━━━━━━━\u001b[0m\u001b[37m\u001b[0m \u001b[1m41s\u001b[0m 88ms/step - accuracy: 0.9971 - loss: 0.0141 - val_accuracy: 0.9403 - val_loss: 0.3503\n",
            "Epoch 96/100\n",
            "\u001b[1m281/281\u001b[0m \u001b[32m━━━━━━━━━━━━━━━━━━━━\u001b[0m\u001b[37m\u001b[0m \u001b[1m23s\u001b[0m 83ms/step - accuracy: 0.9971 - loss: 0.0074 - val_accuracy: 0.9305 - val_loss: 0.3720\n",
            "Epoch 97/100\n",
            "\u001b[1m281/281\u001b[0m \u001b[32m━━━━━━━━━━━━━━━━━━━━\u001b[0m\u001b[37m\u001b[0m \u001b[1m25s\u001b[0m 88ms/step - accuracy: 0.9982 - loss: 0.0037 - val_accuracy: 0.9377 - val_loss: 0.3634\n",
            "Epoch 98/100\n",
            "\u001b[1m281/281\u001b[0m \u001b[32m━━━━━━━━━━━━━━━━━━━━\u001b[0m\u001b[37m\u001b[0m \u001b[1m41s\u001b[0m 88ms/step - accuracy: 0.9973 - loss: 0.0061 - val_accuracy: 0.9394 - val_loss: 0.3029\n",
            "Epoch 99/100\n",
            "\u001b[1m281/281\u001b[0m \u001b[32m━━━━━━━━━━━━━━━━━━━━\u001b[0m\u001b[37m\u001b[0m \u001b[1m24s\u001b[0m 86ms/step - accuracy: 0.9991 - loss: 0.0036 - val_accuracy: 0.9492 - val_loss: 0.2790\n",
            "Epoch 100/100\n",
            "\u001b[1m281/281\u001b[0m \u001b[32m━━━━━━━━━━━━━━━━━━━━\u001b[0m\u001b[37m\u001b[0m \u001b[1m41s\u001b[0m 86ms/step - accuracy: 1.0000 - loss: 3.8003e-04 - val_accuracy: 0.9537 - val_loss: 0.2812\n"
          ]
        }
      ],
      "source": [
        "epochs=100\n",
        "history=model.fit(train_ds,validation_data=validation_ds,epochs=epochs)"
      ]
    },
    {
      "cell_type": "code",
      "execution_count": null,
      "metadata": {
        "colab": {
          "base_uri": "https://localhost:8080/"
        },
        "id": "ROAkvRik3mvr",
        "outputId": "a951e64e-6d17-4f3e-b851-88bea6edff65"
      },
      "outputs": [
        {
          "output_type": "stream",
          "name": "stderr",
          "text": [
            "WARNING:absl:You are saving your model as an HDF5 file via `model.save()` or `keras.saving.save_model(model)`. This file format is considered legacy. We recommend using instead the native Keras format, e.g. `model.save('my_model.keras')` or `keras.saving.save_model(model, 'my_model.keras')`. \n"
          ]
        }
      ],
      "source": [
        "model.save(\"/content/gdrive/MyDrive/Project_Dataset/Crop_Disease_Classification_Model1.h5\")"
      ]
    },
    {
      "cell_type": "code",
      "execution_count": null,
      "metadata": {
        "id": "NViOdM2N58Vk"
      },
      "outputs": [],
      "source": []
    }
  ],
  "metadata": {
    "colab": {
      "provenance": [],
      "gpuType": "T4"
    },
    "kernelspec": {
      "display_name": "Python 3",
      "name": "python3"
    },
    "language_info": {
      "name": "python"
    },
    "accelerator": "GPU"
  },
  "nbformat": 4,
  "nbformat_minor": 0
}